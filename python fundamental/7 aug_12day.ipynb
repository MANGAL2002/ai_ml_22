{
 "cells": [
  {
   "cell_type": "code",
   "execution_count": 1,
   "metadata": {},
   "outputs": [],
   "source": [
    "#summary\n",
    "############\n",
    "#image acquire\n",
    "#color plane extraction & gray conversion\n",
    "#image subtraction fetch specific color\n",
    "#thresholding to convert to BW - CRITICAL\n",
    "#area/region of interest(ROI)\n",
    "    #Dilation/erosion/opening/closing(combinations)\n",
    "    #noise removal/holes filling\n",
    "#find the region properties\n",
    "    #label the image\n",
    "   #regionprops (bounding box) (y1,x1,y2,x2)\n",
    "#draw the rectangle over original image based on bbox"
   ]
  },
  {
   "cell_type": "code",
   "execution_count": 1,
   "metadata": {},
   "outputs": [
    {
     "name": "stderr",
     "output_type": "stream",
     "text": [
      "ERROR: dlib-19.22.99-cp310-cp310-win_amd64.whl is not a supported wheel on this platform.\n"
     ]
    }
   ],
   "source": [
    "!pip install https://github.com/jloh02/dlib/releases/download/v19.22/dlib-19.22.99-cp310-cp310-win_amd64.whl"
   ]
  },
  {
   "cell_type": "code",
   "execution_count": null,
   "metadata": {},
   "outputs": [],
   "source": []
  },
  {
   "cell_type": "code",
   "execution_count": 2,
   "metadata": {},
   "outputs": [],
   "source": [
    "#Live image caoturing\n",
    "import cv2 \n",
    "vid = cv2.VideoCapture(0)\n",
    "while True:\n",
    "    ack, img = vid.read()\n",
    "    if ack:\n",
    "        th, red_bw = cv2.threshold(\n",
    "            cv2.subtract(\n",
    "                 img[:,:,-1], cv2.cvtColor(img, cv2.COLOR_BGR2GRAY)\n",
    "         ),80,255,cv2.THRESH_BINARY\n",
    ")\n",
    "        cv2.imshow('Previous', red_bw)\n",
    "        key = cv2.waitKey(1)\n",
    "        if key == ord('x'):\n",
    "            break                     \n",
    "cv2.destroyAllWindows(); cv2.waitKey(1)\n",
    "vid.release()"
   ]
  },
  {
   "cell_type": "code",
   "execution_count": 3,
   "metadata": {},
   "outputs": [],
   "source": [
    "#Live image caoturing\n",
    "import cv2 \n",
    "vid = cv2.VideoCapture(0)\n",
    "while True:\n",
    "    ack, img = vid.read()\n",
    "    if ack:\n",
    "        th, red_bw = cv2.threshold(\n",
    "            cv2.subtract(\n",
    "                 img[:,:,-1], cv2.cvtColor(img, cv2.COLOR_BGR2GRAY)\n",
    "         ),80,255,cv2.THRESH_BINARY\n",
    ")\n",
    "        strel=cv2.getStructuringElement(cv2.MORPH_RECT,(20,20))\n",
    "        red_bw2=cv2.morphologyEx(\n",
    "            red_bw,cv2.MORPH_CLOSE,strel,iterations=1\n",
    "        )\n",
    "        cv2.imshow('Previous', red_bw)\n",
    "        key = cv2.waitKey(1)\n",
    "        if key == ord('x'):\n",
    "            break                     \n",
    "cv2.destroyAllWindows(); cv2.waitKey(1)\n",
    "vid.release()"
   ]
  },
  {
   "cell_type": "code",
   "execution_count": 4,
   "metadata": {},
   "outputs": [],
   "source": [
    "#Live image caoturing\n",
    "import cv2 \n",
    "import skimage as ski\n",
    "vid = cv2.VideoCapture(0)\n",
    "while True:\n",
    "    ack, img = vid.read()\n",
    "    if ack:\n",
    "        th, red_bw = cv2.threshold(\n",
    "            cv2.subtract(\n",
    "                 img[:,:,-1], cv2.cvtColor(img, cv2.COLOR_BGR2GRAY)\n",
    "         ),80,255,cv2.THRESH_BINARY\n",
    ")\n",
    "        strel=cv2.getStructuringElement(cv2.MORPH_RECT,(20,20))\n",
    "        red_bw2=cv2.morphologyEx(\n",
    "            red_bw,cv2.MORPH_CLOSE,strel,iterations=1\n",
    "        )\n",
    "        # red_bw=ski.morphology.remove_small_objects(\n",
    "        #     red_bw.astype(bool),6000\n",
    "        # ).astype('uint8')*255\n",
    "        cv2.imshow('Previous', red_bw)\n",
    "        key = cv2.waitKey(1)\n",
    "        if key == ord('x'):\n",
    "            break                     \n",
    "cv2.destroyAllWindows(); cv2.waitKey(1)\n",
    "vid.release()"
   ]
  },
  {
   "cell_type": "code",
   "execution_count": 5,
   "metadata": {},
   "outputs": [],
   "source": [
    "#Live image caoturing\n",
    "import cv2 \n",
    "import skimage as ski\n",
    "vid = cv2.VideoCapture(0)\n",
    "while True:\n",
    "    ack, img = vid.read()\n",
    "    if ack:\n",
    "        th, red_bw = cv2.threshold(\n",
    "            cv2.subtract(\n",
    "                 img[:,:,-1], cv2.cvtColor(img, cv2.COLOR_BGR2GRAY)\n",
    "         ),80,255,cv2.THRESH_BINARY\n",
    ")\n",
    "        strel=cv2.getStructuringElement(cv2.MORPH_RECT,(20,20))\n",
    "        red_bw2=cv2.morphologyEx(\n",
    "            red_bw,cv2.MORPH_CLOSE,strel,iterations=1\n",
    "        )\n",
    "        red_bw=ski.morphology.remove_small_objects(\n",
    "             red_bw.astype(bool),6000\n",
    "        ).astype('uint8')*255\n",
    "        cv2.imshow('Previous', red_bw)\n",
    "        key = cv2.waitKey(1)\n",
    "        if key == ord('x'):\n",
    "            break                     \n",
    "cv2.destroyAllWindows(); cv2.waitKey(1)\n",
    "vid.release()"
   ]
  },
  {
   "cell_type": "code",
   "execution_count": 6,
   "metadata": {},
   "outputs": [],
   "source": [
    "#Live image caoturing\n",
    "import cv2 \n",
    "import skimage as ski\n",
    "vid = cv2.VideoCapture(0)\n",
    "while True:\n",
    "    ack, img = vid.read()\n",
    "    if ack:\n",
    "        th, red_bw = cv2.threshold(\n",
    "            cv2.subtract(\n",
    "                 img[:,:,-1], cv2.cvtColor(img, cv2.COLOR_BGR2GRAY)\n",
    "         ),80,255,cv2.THRESH_BINARY\n",
    ")\n",
    "        strel=cv2.getStructuringElement(cv2.MORPH_RECT,(20,20))\n",
    "        red_bw2=cv2.morphologyEx(\n",
    "            red_bw,cv2.MORPH_CLOSE,strel,iterations=1\n",
    "        )\n",
    "        red_bw=ski.morphology.remove_small_objects(\n",
    "             red_bw.astype(bool),6000\n",
    "        ).astype('uint8')*255\n",
    "        red_bw=ski.morphology.remove_small_holes(\n",
    "             red_bw.astype(bool),6000\n",
    "        ).astype('uint8')*255\n",
    "        cv2.imshow('Previous', red_bw)\n",
    "        key = cv2.waitKey(1)\n",
    "        if key == ord('x'):\n",
    "            break                     \n",
    "cv2.destroyAllWindows(); cv2.waitKey(1)\n",
    "vid.release()"
   ]
  },
  {
   "cell_type": "code",
   "execution_count": 7,
   "metadata": {},
   "outputs": [],
   "source": [
    "#Live image caoturing\n",
    "import cv2 \n",
    "import skimage as ski\n",
    "vid = cv2.VideoCapture(0)\n",
    "while True:\n",
    "    ack, img = vid.read()\n",
    "    if ack:\n",
    "        th, red_bw = cv2.threshold(cv2.subtract(img[:,:,-1], cv2.cvtColor(img, cv2.COLOR_BGR2GRAY)),80,255,cv2.THRESH_BINARY)\n",
    "        strel=cv2.getStructuringElement(cv2.MORPH_RECT,(20,20))\n",
    "        red_bw2=cv2.morphologyEx(red_bw,cv2.MORPH_CLOSE,strel,iterations=1)\n",
    "        red_bw=ski.morphology.remove_small_objects(red_bw.astype(bool),3000).astype('uint8')*255\n",
    "        red_bw=ski.morphology.remove_small_holes(red_bw.astype(bool),3000).astype('uint8')*255\n",
    "        rps=ski.measure.regionprops(ski.measure.label(red_bw.astype(bool)))\n",
    "        count=len(rps)\n",
    "        img_copy=img.copy()\n",
    "        cv2.putText(img_copy,str(count),(100,120),cv2.FONT_HERSHEY_PLAIN,15,(0,0,255),10)\n",
    "        for rp in rps:\n",
    "            y1,x1,y2,x2=rp.bbox\n",
    "            cv2.rectangle(img_copy,(x1,y1),(x2,y2),(255,0,0),thickness=5)\n",
    "        cv2.imshow('Previous', img_copy)\n",
    "        key = cv2.waitKey(1)\n",
    "        if key == ord('x'):\n",
    "            break                     \n",
    "cv2.destroyAllWindows(); cv2.waitKey(1)\n",
    "vid.release()"
   ]
  },
  {
   "cell_type": "code",
   "execution_count": 8,
   "metadata": {},
   "outputs": [],
   "source": [
    "#face detection -viola-jones- algo(haarcascade features)\n",
    "import cv2 \n",
    "fd=cv2.CascadeClassifier(cv2.data.haarcascades + 'haarcascade_frontalface_default.xml')\n",
    "vid = cv2.VideoCapture(0)\n",
    "while True:\n",
    "    ack, img = vid.read()\n",
    "    if ack:\n",
    "        faces=fd.detectMultiScale(img,1.2,10)\n",
    "        for x,y,w,h in faces:\n",
    "            cv2.rectangle(img,(x,y),(x+w,y+h),(255,255,255),10)\n",
    "        cv2.imshow('Preview', img)\n",
    "        key = cv2.waitKey(1)\n",
    "        if key == ord('x'):\n",
    "            break                     \n",
    "cv2.destroyAllWindows(); cv2.waitKey(1)\n",
    "vid.release()"
   ]
  },
  {
   "cell_type": "code",
   "execution_count": 9,
   "metadata": {},
   "outputs": [],
   "source": [
    "#face detection -face images save to \n",
    "import cv2 \n",
    "fd=cv2.CascadeClassifier(cv2.data.haarcascades + 'haarcascade_frontalface_default.xml')\n",
    "vid = cv2.VideoCapture(0)\n",
    "counter =0\n",
    "while True:\n",
    "    ack, img = vid.read()\n",
    "    if ack:\n",
    "        faces=fd.detectMultiScale(img,1.2,10)\n",
    "        if(len(faces))==1:\n",
    "            counter +=1\n",
    "            for x,y,w,h in faces:\n",
    "                cv2.rectangle(img,(x,y),(x+w,y+h),(255,255,255),10)\n",
    "            face_img=img[y:y+h,x:x+w,:].copy()\n",
    "            cv2.imwrite(r'faces/face_{0}.png'.format(counter),face_img)\n",
    "        cv2.imshow('Preview', img)\n",
    "        key = cv2.waitKey(1)\n",
    "        if key == ord('x'):\n",
    "            break                     \n",
    "cv2.destroyAllWindows(); cv2.waitKey(1)\n",
    "vid.release()"
   ]
  },
  {
   "cell_type": "code",
   "execution_count": 10,
   "metadata": {},
   "outputs": [],
   "source": [
    "#face detection -face images save to \n",
    "import cv2 \n",
    "fd=cv2.CascadeClassifier(cv2.data.haarcascades + 'haarcascade_frontalface_default.xml')\n",
    "vid = cv2.VideoCapture(0)\n",
    "counter =0\n",
    "while True:\n",
    "    ack, img = vid.read()\n",
    "    if ack:\n",
    "        faces=fd.detectMultiScale(img,1.2,10)\n",
    "        if(len(faces))==1:\n",
    "            counter +=1\n",
    "            for x,y,w,h in faces:\n",
    "                cv2.rectangle(img,(x,y),(x+w,y+h),(255,255,255),10)\n",
    "            face_img=img[y:y+h,x:x+w,:].copy()\n",
    "            cv2.imwrite(r'faces/face_{0}.png'.format(counter),face_img)\n",
    "        cv2.imshow('Preview', img)\n",
    "        key = cv2.waitKey(1)\n",
    "        if key == ord('x'):\n",
    "            break                     \n",
    "cv2.destroyAllWindows(); cv2.waitKey(1)\n",
    "vid.release()"
   ]
  },
  {
   "cell_type": "code",
   "execution_count": 12,
   "metadata": {},
   "outputs": [],
   "source": [
    "#Face Detection with help of VIOLAJONES ALGO(Haarcascade features)\n",
    "import cv2 \n",
    "fd = cv2.CascadeClassifier(\n",
    "    cv2.data.haarcascades + 'haarcascade_frontalface_default.xml'\n",
    "    )\n",
    "vid = cv2.VideoCapture(0)\n",
    "counter = 0\n",
    "while True:\n",
    "    ack, img = vid.read()\n",
    "    if ack:\n",
    "        faces = fd.detectMultiScale(img,1.2,10)\n",
    "        if len(faces) == 1:\n",
    "            counter += 1\n",
    "            for x,y,w,h in faces:\n",
    "                cv2.rectangle(img,(x,y),(x+w,y+h),(255,255,255),10)\n",
    "            face_img = img[y:y+h, x:x+w,:].copy()\n",
    "            cv2.imwrite(\n",
    "                r'faces/face_{0}.png'.format(counter),\n",
    "                face_img)\n",
    "            \n",
    "        cv2.imshow('Previous', img)\n",
    "        key = cv2.waitKey(1)\n",
    "        if key == ord('x'):\n",
    "            break                     \n",
    "cv2.destroyAllWindows(); cv2.waitKey()\n",
    "vid.release()\n"
   ]
  },
  {
   "cell_type": "code",
   "execution_count": 14,
   "metadata": {},
   "outputs": [],
   "source": [
    "#face_recognition"
   ]
  },
  {
   "cell_type": "code",
   "execution_count": 2,
   "metadata": {},
   "outputs": [
    {
     "name": "stdout",
     "output_type": "stream",
     "text": [
      "Note: you may need to restart the kernel to use updated packages.\n"
     ]
    },
    {
     "name": "stderr",
     "output_type": "stream",
     "text": [
      "ERROR: Could not find a version that satisfies the requirement cmac (from versions: none)\n",
      "ERROR: No matching distribution found for cmac\n"
     ]
    }
   ],
   "source": [
    "pip install cmac"
   ]
  },
  {
   "cell_type": "code",
   "execution_count": 3,
   "metadata": {},
   "outputs": [
    {
     "name": "stdout",
     "output_type": "stream",
     "text": [
      "Collecting face_recognitionNote: you may need to restart the kernel to use updated packages.\n"
     ]
    },
    {
     "name": "stderr",
     "output_type": "stream",
     "text": [
      "  ERROR: Command errored out with exit status 1:\n",
      "   command: 'c:\\Users\\hp\\3D Objects\\py\\python.exe' 'c:\\Users\\hp\\3D Objects\\py\\lib\\site-packages\\pip\\_vendor\\pep517\\in_process\\_in_process.py' build_wheel 'C:\\Users\\hp\\AppData\\Local\\Temp\\tmpynqjf1ck'\n",
      "       cwd: C:\\Users\\hp\\AppData\\Local\\Temp\\pip-install-qcn2etg6\\dlib_14eec4f488a9440a88d2210d3d811d70\n",
      "  Complete output (73 lines):\n",
      "  running bdist_wheel\n",
      "  running build\n",
      "  running build_ext\n",
      "  <string>:125: DeprecationWarning: distutils Version classes are deprecated. Use packaging.version instead."
     ]
    },
    {
     "name": "stdout",
     "output_type": "stream",
     "text": [
      "\n",
      "  Using cached face_recognition-1.3.0-py2.py3-none-any.whl (15 kB)\n",
      "Requirement already satisfied: Click>=6.0 in c:\\users\\hp\\3d objects\\py\\lib\\site-packages (from face_recognition) (8.0.4)\n",
      "Requirement already satisfied: numpy in c:\\users\\hp\\3d objects\\py\\lib\\site-packages (from face_recognition) (1.21.5)\n",
      "Collecting face-recognition-models>=0.3.0\n",
      "  Using cached face_recognition_models-0.3.0-py2.py3-none-any.whl\n",
      "Requirement already satisfied: Pillow in c:\\users\\hp\\3d objects\\py\\lib\\site-packages (from face_recognition) (9.0.1)\n",
      "Collecting dlib>=19.7\n",
      "  Using cached dlib-19.24.2.tar.gz (11.8 MB)\n",
      "  Installing build dependencies: started\n",
      "  Installing build dependencies: finished with status 'done'\n",
      "  Getting requirements to build wheel: started\n",
      "  Getting requirements to build wheel: finished with status 'done'\n",
      "    Preparing wheel metadata: started\n",
      "    Preparing wheel metadata: finished with status 'done'\n",
      "Requirement already satisfied: colorama in c:\\users\\hp\\3d objects\\py\\lib\\site-packages (from Click>=6.0->face_recognition) (0.4.4)\n",
      "Building wheels for collected packages: dlib\n",
      "  Building wheel for dlib (PEP 517): started\n",
      "  Building wheel for dlib (PEP 517): finished with status 'error'\n",
      "Failed to build dlib\n"
     ]
    },
    {
     "name": "stderr",
     "output_type": "stream",
     "text": [
      "\n",
      "  Building extension for Python 3.9.12 (main, Apr  4 2022, 05:22:27) [MSC v.1916 64 bit (AMD64)]\n",
      "  Invoking CMake setup: 'cmake C:\\Users\\hp\\AppData\\Local\\Temp\\pip-install-qcn2etg6\\dlib_14eec4f488a9440a88d2210d3d811d70\\tools\\python -DCMAKE_LIBRARY_OUTPUT_DIRECTORY=C:\\Users\\hp\\AppData\\Local\\Temp\\pip-install-qcn2etg6\\dlib_14eec4f488a9440a88d2210d3d811d70\\build\\lib.win-amd64-cpython-39 -DPYTHON_EXECUTABLE=c:\\Users\\hp\\3D Objects\\py\\python.exe -DCMAKE_LIBRARY_OUTPUT_DIRECTORY_RELEASE=C:\\Users\\hp\\AppData\\Local\\Temp\\pip-install-qcn2etg6\\dlib_14eec4f488a9440a88d2210d3d811d70\\build\\lib.win-amd64-cpython-39 -A x64'\n",
      "  -- Building for: NMake Makefiles\n",
      "  CMake Error at CMakeLists.txt:5 (message):\n",
      "  \n",
      "  \n",
      "  \n",
      "    !!!!!!!!!!!!!!!!!!!!!!!!!!!!!!!!!!!!!!!!!!!!!!!!!!!!!!!!!!!!!!!!!!!!!!!!!!!!!!!\n",
      "  \n",
      "  \n",
      "    You must use Visual Studio to build a python extension on windows.  If you\n",
      "    are getting this error it means you have not installed Visual C++.  Note\n",
      "    that there are many flavors of Visual Studio, like Visual Studio for C#\n",
      "    development.  You need to install Visual Studio for C++.\n",
      "  \n",
      "  \n",
      "    !!!!!!!!!!!!!!!!!!!!!!!!!!!!!!!!!!!!!!!!!!!!!!!!!!!!!!!!!!!!!!!!!!!!!!!!!!!!!!!\n",
      "  \n",
      "  \n",
      "  \n",
      "  \n",
      "  -- Configuring incomplete, errors occurred!\n",
      "  Traceback (most recent call last):\n",
      "    File \"c:\\Users\\hp\\3D Objects\\py\\lib\\site-packages\\pip\\_vendor\\pep517\\in_process\\_in_process.py\", line 349, in <module>\n",
      "      main()\n",
      "    File \"c:\\Users\\hp\\3D Objects\\py\\lib\\site-packages\\pip\\_vendor\\pep517\\in_process\\_in_process.py\", line 331, in main\n",
      "      json_out['return_val'] = hook(**hook_input['kwargs'])\n",
      "    File \"c:\\Users\\hp\\3D Objects\\py\\lib\\site-packages\\pip\\_vendor\\pep517\\in_process\\_in_process.py\", line 248, in build_wheel\n",
      "      return _build_backend().build_wheel(wheel_directory, config_settings,\n",
      "    File \"C:\\Users\\hp\\AppData\\Local\\Temp\\pip-build-env-htn8o5cn\\overlay\\Lib\\site-packages\\setuptools\\build_meta.py\", line 416, in build_wheel\n",
      "      return self._build_with_temp_dir(['bdist_wheel'], '.whl',\n",
      "    File \"C:\\Users\\hp\\AppData\\Local\\Temp\\pip-build-env-htn8o5cn\\overlay\\Lib\\site-packages\\setuptools\\build_meta.py\", line 401, in _build_with_temp_dir\n",
      "      self.run_setup()\n",
      "    File \"C:\\Users\\hp\\AppData\\Local\\Temp\\pip-build-env-htn8o5cn\\overlay\\Lib\\site-packages\\setuptools\\build_meta.py\", line 338, in run_setup\n",
      "      exec(code, locals())\n",
      "    File \"<string>\", line 218, in <module>\n",
      "    File \"C:\\Users\\hp\\AppData\\Local\\Temp\\pip-build-env-htn8o5cn\\overlay\\Lib\\site-packages\\setuptools\\__init__.py\", line 107, in setup\n",
      "      return distutils.core.setup(**attrs)\n",
      "    File \"C:\\Users\\hp\\AppData\\Local\\Temp\\pip-build-env-htn8o5cn\\overlay\\Lib\\site-packages\\setuptools\\_distutils\\core.py\", line 185, in setup\n",
      "      return run_commands(dist)\n",
      "    File \"C:\\Users\\hp\\AppData\\Local\\Temp\\pip-build-env-htn8o5cn\\overlay\\Lib\\site-packages\\setuptools\\_distutils\\core.py\", line 201, in run_commands\n",
      "      dist.run_commands()\n",
      "    File \"C:\\Users\\hp\\AppData\\Local\\Temp\\pip-build-env-htn8o5cn\\overlay\\Lib\\site-packages\\setuptools\\_distutils\\dist.py\", line 969, in run_commands\n",
      "      self.run_command(cmd)\n",
      "    File \"C:\\Users\\hp\\AppData\\Local\\Temp\\pip-build-env-htn8o5cn\\overlay\\Lib\\site-packages\\setuptools\\dist.py\", line 1234, in run_command\n",
      "      super().run_command(command)\n",
      "    File \"C:\\Users\\hp\\AppData\\Local\\Temp\\pip-build-env-htn8o5cn\\overlay\\Lib\\site-packages\\setuptools\\_distutils\\dist.py\", line 988, in run_command\n",
      "      cmd_obj.run()\n",
      "    File \"C:\\Users\\hp\\AppData\\Local\\Temp\\pip-build-env-htn8o5cn\\overlay\\Lib\\site-packages\\wheel\\bdist_wheel.py\", line 349, in run\n",
      "      self.run_command(\"build\")\n",
      "    File \"C:\\Users\\hp\\AppData\\Local\\Temp\\pip-build-env-htn8o5cn\\overlay\\Lib\\site-packages\\setuptools\\_distutils\\cmd.py\", line 318, in run_command\n",
      "      self.distribution.run_command(command)\n",
      "    File \"C:\\Users\\hp\\AppData\\Local\\Temp\\pip-build-env-htn8o5cn\\overlay\\Lib\\site-packages\\setuptools\\dist.py\", line 1234, in run_command\n",
      "      super().run_command(command)\n",
      "    File \"C:\\Users\\hp\\AppData\\Local\\Temp\\pip-build-env-htn8o5cn\\overlay\\Lib\\site-packages\\setuptools\\_distutils\\dist.py\", line 988, in run_command\n",
      "      cmd_obj.run()\n",
      "    File \"C:\\Users\\hp\\AppData\\Local\\Temp\\pip-build-env-htn8o5cn\\overlay\\Lib\\site-packages\\setuptools\\_distutils\\command\\build.py\", line 131, in run\n",
      "      self.run_command(cmd_name)\n",
      "    File \"C:\\Users\\hp\\AppData\\Local\\Temp\\pip-build-env-htn8o5cn\\overlay\\Lib\\site-packages\\setuptools\\_distutils\\cmd.py\", line 318, in run_command\n",
      "      self.distribution.run_command(command)\n",
      "    File \"C:\\Users\\hp\\AppData\\Local\\Temp\\pip-build-env-htn8o5cn\\overlay\\Lib\\site-packages\\setuptools\\dist.py\", line 1234, in run_command\n",
      "      super().run_command(command)\n",
      "    File \"C:\\Users\\hp\\AppData\\Local\\Temp\\pip-build-env-htn8o5cn\\overlay\\Lib\\site-packages\\setuptools\\_distutils\\dist.py\", line 988, in run_command\n",
      "      cmd_obj.run()\n",
      "    File \"<string>\", line 130, in run\n",
      "    File \"<string>\", line 167, in build_extension\n",
      "    File \"c:\\Users\\hp\\3D Objects\\py\\lib\\subprocess.py\", line 373, in check_call\n",
      "      raise CalledProcessError(retcode, cmd)\n",
      "  subprocess.CalledProcessError: Command '['cmake', 'C:\\\\Users\\\\hp\\\\AppData\\\\Local\\\\Temp\\\\pip-install-qcn2etg6\\\\dlib_14eec4f488a9440a88d2210d3d811d70\\\\tools\\\\python', '-DCMAKE_LIBRARY_OUTPUT_DIRECTORY=C:\\\\Users\\\\hp\\\\AppData\\\\Local\\\\Temp\\\\pip-install-qcn2etg6\\\\dlib_14eec4f488a9440a88d2210d3d811d70\\\\build\\\\lib.win-amd64-cpython-39', '-DPYTHON_EXECUTABLE=c:\\\\Users\\\\hp\\\\3D Objects\\\\py\\\\python.exe', '-DCMAKE_LIBRARY_OUTPUT_DIRECTORY_RELEASE=C:\\\\Users\\\\hp\\\\AppData\\\\Local\\\\Temp\\\\pip-install-qcn2etg6\\\\dlib_14eec4f488a9440a88d2210d3d811d70\\\\build\\\\lib.win-amd64-cpython-39', '-A', 'x64']' returned non-zero exit status 1.\n",
      "  ----------------------------------------\n",
      "  ERROR: Failed building wheel for dlib\n",
      "ERROR: Could not build wheels for dlib which use PEP 517 and cannot be installed directly\n"
     ]
    }
   ],
   "source": [
    "pip install face_recognition"
   ]
  },
  {
   "cell_type": "code",
   "execution_count": 6,
   "metadata": {},
   "outputs": [
    {
     "ename": "ModuleNotFoundError",
     "evalue": "No module named 'face_recongition'",
     "output_type": "error",
     "traceback": [
      "\u001b[1;31m---------------------------------------------------------------------------\u001b[0m",
      "\u001b[1;31mModuleNotFoundError\u001b[0m                       Traceback (most recent call last)",
      "\u001b[1;32mc:\\Users\\hp\\Desktop\\4th year internship\\python fundamental\\7 aug_12day.ipynb Cell 17\u001b[0m in \u001b[0;36m<cell line: 1>\u001b[1;34m()\u001b[0m\n\u001b[1;32m----> <a href='vscode-notebook-cell:/c%3A/Users/hp/Desktop/4th%20year%20internship/python%20fundamental/7%20aug_12day.ipynb#X22sZmlsZQ%3D%3D?line=0'>1</a>\u001b[0m \u001b[39mimport\u001b[39;00m \u001b[39mface_recongition\u001b[39;00m \u001b[39mas\u001b[39;00m \u001b[39mfr\u001b[39;00m\n",
      "\u001b[1;31mModuleNotFoundError\u001b[0m: No module named 'face_recongition'"
     ]
    }
   ],
   "source": [
    "import face_recongition as fr"
   ]
  },
  {
   "cell_type": "code",
   "execution_count": null,
   "metadata": {},
   "outputs": [],
   "source": []
  }
 ],
 "metadata": {
  "kernelspec": {
   "display_name": "Python 3",
   "language": "python",
   "name": "python3"
  },
  "language_info": {
   "codemirror_mode": {
    "name": "ipython",
    "version": 3
   },
   "file_extension": ".py",
   "mimetype": "text/x-python",
   "name": "python",
   "nbconvert_exporter": "python",
   "pygments_lexer": "ipython3",
   "version": "3.9.12"
  },
  "orig_nbformat": 4
 },
 "nbformat": 4,
 "nbformat_minor": 2
}

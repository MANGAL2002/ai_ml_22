{
 "cells": [
  {
   "cell_type": "code",
   "execution_count": 5,
   "metadata": {},
   "outputs": [
    {
     "name": "stdout",
     "output_type": "stream",
     "text": [
      "ayushi\n"
     ]
    }
   ],
   "source": [
    "def load():\n",
    "    print(\"ayushi\")\n",
    "1\n",
    "load() "
   ]
  },
  {
   "cell_type": "code",
   "execution_count": 8,
   "metadata": {},
   "outputs": [
    {
     "data": {
      "text/plain": [
       "(6, 7)"
      ]
     },
     "execution_count": 8,
     "metadata": {},
     "output_type": "execute_result"
    }
   ],
   "source": [
    "def hii(x,y):\n",
    "    return x*2  ,x+y\n",
    "\n",
    "\n",
    "hii(3,4)\n"
   ]
  },
  {
   "cell_type": "code",
   "execution_count": 9,
   "metadata": {},
   "outputs": [
    {
     "name": "stdout",
     "output_type": "stream",
     "text": [
      "2\n",
      "3\n"
     ]
    }
   ],
   "source": [
    "a,b = hii(1,2)\n",
    "print(a)\n",
    "print(b)"
   ]
  },
  {
   "cell_type": "code",
   "execution_count": 10,
   "metadata": {},
   "outputs": [
    {
     "name": "stdout",
     "output_type": "stream",
     "text": [
      "10\n",
      "10\n"
     ]
    }
   ],
   "source": [
    "c=5\n",
    "d=5\n",
    "a,b = hii(c,d)\n",
    "print(a)\n",
    "print(b)"
   ]
  },
  {
   "cell_type": "code",
   "execution_count": 11,
   "metadata": {},
   "outputs": [
    {
     "data": {
      "text/plain": [
       "(4, 6)"
      ]
     },
     "execution_count": 11,
     "metadata": {},
     "output_type": "execute_result"
    }
   ],
   "source": [
    "def hii(x=2,y=4):\n",
    "    return x*2  ,x+y\n",
    "\n",
    "\n",
    "hii()"
   ]
  },
  {
   "cell_type": "code",
   "execution_count": 12,
   "metadata": {},
   "outputs": [
    {
     "data": {
      "text/plain": [
       "(8, 9)"
      ]
     },
     "execution_count": 12,
     "metadata": {},
     "output_type": "execute_result"
    }
   ],
   "source": [
    "def hii(x,y=5):\n",
    "    return x*2  ,x+y\n",
    "\n",
    "\n",
    "hii(4)"
   ]
  },
  {
   "cell_type": "code",
   "execution_count": 13,
   "metadata": {},
   "outputs": [
    {
     "name": "stdout",
     "output_type": "stream",
     "text": [
      "6 4 () {}\n",
      "6\n",
      "4\n",
      "()\n",
      "{}\n"
     ]
    }
   ],
   "source": [
    "def hello(x =6, y =4,*p ,**q):\n",
    "    print(x,y,p,q)    \n",
    "    print(x)    \n",
    "    print(y)    \n",
    "    print(p)    \n",
    "    print(q)  \n",
    "\n",
    "hello()"
   ]
  },
  {
   "cell_type": "code",
   "execution_count": 14,
   "metadata": {},
   "outputs": [
    {
     "name": "stdout",
     "output_type": "stream",
     "text": [
      "1 1 () {}\n",
      "1\n",
      "1\n",
      "()\n",
      "{}\n",
      "1 1 () {}\n",
      "1\n",
      "1\n",
      "()\n",
      "{}\n"
     ]
    }
   ],
   "source": [
    "hello(1,1)\n",
    "hello(1,1)"
   ]
  },
  {
   "cell_type": "code",
   "execution_count": 15,
   "metadata": {},
   "outputs": [
    {
     "name": "stdout",
     "output_type": "stream",
     "text": [
      "1 1 (2, 3, 4, 45, 5, 5, 5) {}\n",
      "1\n",
      "1\n",
      "(2, 3, 4, 45, 5, 5, 5)\n",
      "{}\n"
     ]
    }
   ],
   "source": [
    "hello(1,1,2,3,4,45,5,5,5)"
   ]
  },
  {
   "cell_type": "code",
   "execution_count": 16,
   "metadata": {},
   "outputs": [
    {
     "name": "stdout",
     "output_type": "stream",
     "text": [
      "1 1 () {'m': 5, 'n': 3, 'w': 33}\n",
      "1\n",
      "1\n",
      "()\n",
      "{'m': 5, 'n': 3, 'w': 33}\n"
     ]
    }
   ],
   "source": [
    "hello(1,1,m=5,n=3,w=33)"
   ]
  },
  {
   "cell_type": "code",
   "execution_count": 17,
   "metadata": {},
   "outputs": [
    {
     "name": "stdout",
     "output_type": "stream",
     "text": [
      "2.0\n",
      "work done\n"
     ]
    }
   ],
   "source": [
    "#try and catch\n",
    "\n",
    "try:\n",
    "    a=10\n",
    "    b=5.0\n",
    "    c=a/b\n",
    "    print(c)\n",
    "\n",
    "\n",
    "except ValueError as err:\n",
    "    print(err)    \n",
    "\n",
    "\n",
    "print(\"work done\")  "
   ]
  },
  {
   "cell_type": "code",
   "execution_count": 18,
   "metadata": {},
   "outputs": [
    {
     "name": "stdout",
     "output_type": "stream",
     "text": [
      "division by zero\n",
      "0\n",
      "work done\n"
     ]
    }
   ],
   "source": [
    "#try and catch\n",
    "\n",
    "try:\n",
    "    a=10\n",
    "    b=0\n",
    "    c=a/b\n",
    "    print(c)\n",
    "\n",
    "\n",
    "except ZeroDivisionError as err:\n",
    "    print(err)\n",
    "    print(b)    \n",
    "\n",
    "\n",
    "print(\"work done\") "
   ]
  },
  {
   "cell_type": "code",
   "execution_count": 19,
   "metadata": {},
   "outputs": [
    {
     "name": "stdout",
     "output_type": "stream",
     "text": [
      "1.25\n",
      "work done\n"
     ]
    }
   ],
   "source": [
    "#try and catch\n",
    "\n",
    "try:\n",
    "    a=10\n",
    "    b=int(input())\n",
    "    c=a/b\n",
    "    print(c)\n",
    "\n",
    "\n",
    "except ZeroDivisionError as err:\n",
    "    print(err)\n",
    "    print(b)    \n",
    "\n",
    "\n",
    "except Exception as err:\n",
    "    print(err)\n",
    "\n",
    "print(\"work done\")   "
   ]
  },
  {
   "cell_type": "code",
   "execution_count": 20,
   "metadata": {},
   "outputs": [
    {
     "name": "stdout",
     "output_type": "stream",
     "text": [
      "1.4285714285714286\n",
      "work done\n"
     ]
    }
   ],
   "source": [
    "#try and catch\n",
    "\n",
    "try:\n",
    "    a=10\n",
    "    b=int(input())\n",
    "    c=a/b\n",
    "    print(c)\n",
    "\n",
    "\n",
    "except ZeroDivisionError as err:\n",
    "    print(err)\n",
    "    print(b)    \n",
    "\n",
    "\n",
    "print(\"work done\") "
   ]
  },
  {
   "cell_type": "code",
   "execution_count": 21,
   "metadata": {},
   "outputs": [
    {
     "name": "stdout",
     "output_type": "stream",
     "text": [
      "1.6666666666666667\n",
      "run hoga hi hoga\n",
      "work done\n"
     ]
    }
   ],
   "source": [
    "#try and catch\n",
    "\n",
    "try:\n",
    "    a=10\n",
    "    b=int(input())\n",
    "    c=a/b\n",
    "    print(c)\n",
    "\n",
    "\n",
    "except ZeroDivisionError as err:\n",
    "    print(err)\n",
    "    print(b)    \n",
    "\n",
    "finally:\n",
    "    print(\"run hoga hi hoga\")\n",
    "print(\"work done\") "
   ]
  },
  {
   "cell_type": "code",
   "execution_count": 22,
   "metadata": {},
   "outputs": [
    {
     "name": "stdout",
     "output_type": "stream",
     "text": [
      "10\n",
      "20\n",
      "10\n"
     ]
    }
   ],
   "source": [
    "a=10\n",
    "\n",
    "def aa():\n",
    "    a=20\n",
    "    print(a)\n",
    "\n",
    "print(a)    \n",
    "aa()\n",
    "print(a)"
   ]
  },
  {
   "cell_type": "code",
   "execution_count": 23,
   "metadata": {},
   "outputs": [
    {
     "name": "stdout",
     "output_type": "stream",
     "text": [
      "10\n",
      "20\n",
      "20\n"
     ]
    }
   ],
   "source": [
    "a=10\n",
    "\n",
    "def aa():\n",
    "    global a\n",
    "    a=20\n",
    "    print(a)\n",
    "\n",
    "print(a)    \n",
    "aa()\n",
    "print(a)"
   ]
  },
  {
   "cell_type": "code",
   "execution_count": 24,
   "metadata": {},
   "outputs": [
    {
     "data": {
      "text/plain": [
       "<function __main__.aa()>"
      ]
     },
     "execution_count": 24,
     "metadata": {},
     "output_type": "execute_result"
    }
   ],
   "source": [
    "x=aa\n",
    "x"
   ]
  },
  {
   "cell_type": "code",
   "execution_count": 25,
   "metadata": {},
   "outputs": [
    {
     "name": "stdout",
     "output_type": "stream",
     "text": [
      "20\n"
     ]
    }
   ],
   "source": [
    "x()"
   ]
  },
  {
   "cell_type": "code",
   "execution_count": 26,
   "metadata": {},
   "outputs": [],
   "source": [
    "def pop():\n",
    "    print(\"hi\")"
   ]
  },
  {
   "cell_type": "code",
   "execution_count": 27,
   "metadata": {},
   "outputs": [],
   "source": [
    "def qq(f):\n",
    "    f()    "
   ]
  },
  {
   "cell_type": "code",
   "execution_count": 28,
   "metadata": {},
   "outputs": [
    {
     "name": "stdout",
     "output_type": "stream",
     "text": [
      "hi\n"
     ]
    }
   ],
   "source": [
    "qq(pop)"
   ]
  },
  {
   "cell_type": "code",
   "execution_count": 29,
   "metadata": {},
   "outputs": [],
   "source": [
    "def aws(f,m,n):\n",
    "    return pop, m+n"
   ]
  },
  {
   "cell_type": "code",
   "execution_count": 30,
   "metadata": {},
   "outputs": [
    {
     "ename": "NameError",
     "evalue": "name 'f' is not defined",
     "output_type": "error",
     "traceback": [
      "\u001b[1;31m---------------------------------------------------------------------------\u001b[0m",
      "\u001b[1;31mNameError\u001b[0m                                 Traceback (most recent call last)",
      "\u001b[1;32mc:\\Users\\hp\\Desktop\\4th year internship\\python fundamental\\function day5,27july.ipynb Cell 24\u001b[0m in \u001b[0;36m<cell line: 1>\u001b[1;34m()\u001b[0m\n\u001b[1;32m----> <a href='vscode-notebook-cell:/c%3A/Users/hp/Desktop/4th%20year%20internship/python%20fundamental/function%20day5%2C27july.ipynb#X33sZmlsZQ%3D%3D?line=0'>1</a>\u001b[0m p,_ \u001b[39m=\u001b[39m aws(f,\u001b[39m2\u001b[39m,\u001b[39m3\u001b[39m)\n",
      "\u001b[1;31mNameError\u001b[0m: name 'f' is not defined"
     ]
    }
   ],
   "source": [
    "p,_ = aws(f,2,3)"
   ]
  },
  {
   "cell_type": "code",
   "execution_count": 31,
   "metadata": {},
   "outputs": [
    {
     "ename": "NameError",
     "evalue": "name 'p' is not defined",
     "output_type": "error",
     "traceback": [
      "\u001b[1;31m---------------------------------------------------------------------------\u001b[0m",
      "\u001b[1;31mNameError\u001b[0m                                 Traceback (most recent call last)",
      "\u001b[1;32mc:\\Users\\hp\\Desktop\\4th year internship\\python fundamental\\function day5,27july.ipynb Cell 25\u001b[0m in \u001b[0;36m<cell line: 1>\u001b[1;34m()\u001b[0m\n\u001b[1;32m----> <a href='vscode-notebook-cell:/c%3A/Users/hp/Desktop/4th%20year%20internship/python%20fundamental/function%20day5%2C27july.ipynb#X34sZmlsZQ%3D%3D?line=0'>1</a>\u001b[0m p()\n",
      "\u001b[1;31mNameError\u001b[0m: name 'p' is not defined"
     ]
    }
   ],
   "source": [
    "p()\n"
   ]
  },
  {
   "cell_type": "code",
   "execution_count": 32,
   "metadata": {},
   "outputs": [],
   "source": [
    "#decorator\n",
    "\n",
    "def nayawala(f):\n",
    "    def specail():\n",
    "        print('first line')\n",
    "        f()\n",
    "        print('hello')\n",
    "\n",
    "    return specail"
   ]
  },
  {
   "cell_type": "code",
   "execution_count": 33,
   "metadata": {},
   "outputs": [],
   "source": [
    "@nayawala\n",
    "@nayawala\n",
    "def simple():\n",
    "    print(\"hi\")"
   ]
  },
  {
   "cell_type": "code",
   "execution_count": 34,
   "metadata": {},
   "outputs": [
    {
     "name": "stdout",
     "output_type": "stream",
     "text": [
      "first line\n",
      "first line\n",
      "hi\n",
      "hello\n",
      "hello\n"
     ]
    }
   ],
   "source": [
    "simple()"
   ]
  },
  {
   "cell_type": "code",
   "execution_count": 35,
   "metadata": {},
   "outputs": [
    {
     "data": {
      "text/plain": [
       "4"
      ]
     },
     "execution_count": 35,
     "metadata": {},
     "output_type": "execute_result"
    }
   ],
   "source": [
    "normal=lambda x,y :x*y\n",
    "normal(2,2)"
   ]
  },
  {
   "cell_type": "code",
   "execution_count": 36,
   "metadata": {},
   "outputs": [
    {
     "name": "stdout",
     "output_type": "stream",
     "text": [
      "[2, 4, 6, 8, 10, 12, 12, 14, 16]\n",
      "['1', '2', '3', '4', '5', '6', '6', '7', '8']\n"
     ]
    }
   ],
   "source": [
    "def my_mapper(fun,values):\n",
    "    result=[]\n",
    "    for value in values:\n",
    "        result += [fun(value)]\n",
    "\n",
    "    return result\n",
    "\n",
    "\n",
    "data =[1,2,3,4,5,6,6,7,8,]\n",
    "\n",
    "print(my_mapper(lambda x:x*2 , data))\n",
    "#print(my_mapper(lambda x:x*2 , data))\n",
    "print(my_mapper(lambda x:str(x) , data))"
   ]
  },
  {
   "cell_type": "code",
   "execution_count": null,
   "metadata": {},
   "outputs": [],
   "source": []
  }
 ],
 "metadata": {
  "kernelspec": {
   "display_name": "Python 3",
   "language": "python",
   "name": "python3"
  },
  "language_info": {
   "codemirror_mode": {
    "name": "ipython",
    "version": 3
   },
   "file_extension": ".py",
   "mimetype": "text/x-python",
   "name": "python",
   "nbconvert_exporter": "python",
   "pygments_lexer": "ipython3",
   "version": "3.9.12"
  },
  "orig_nbformat": 4
 },
 "nbformat": 4,
 "nbformat_minor": 2
}

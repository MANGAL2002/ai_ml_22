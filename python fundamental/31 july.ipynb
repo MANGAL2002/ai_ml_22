{
 "cells": [
  {
   "cell_type": "code",
   "execution_count": 1,
   "metadata": {},
   "outputs": [
    {
     "name": "stdout",
     "output_type": "stream",
     "text": [
      "9\n",
      "6\n",
      "10\n",
      "5\n"
     ]
    }
   ],
   "source": [
    "myList = ['pineapple', 'banana', 'watermelon', 'mango']\n",
    "\n",
    "index = 0\n",
    "while index < len(myList):\n",
    "    element = myList[index]\n",
    "    print(len(element))\n",
    "    index += 1"
   ]
  },
  {
   "cell_type": "code",
   "execution_count": 24,
   "metadata": {},
   "outputs": [
    {
     "name": "stdout",
     "output_type": "stream",
     "text": [
      "Requirement already satisfied: numpy in c:\\users\\hp\\3d objects\\py\\lib\\site-packages (1.21.5)\n"
     ]
    }
   ],
   "source": [
    "!python -m pip install numpy"
   ]
  },
  {
   "cell_type": "code",
   "execution_count": 25,
   "metadata": {},
   "outputs": [],
   "source": [
    "import numpy as np"
   ]
  },
  {
   "cell_type": "code",
   "execution_count": 32,
   "metadata": {},
   "outputs": [],
   "source": [
    "a=np.array([3,8,2,67,45])"
   ]
  },
  {
   "cell_type": "code",
   "execution_count": 39,
   "metadata": {},
   "outputs": [],
   "source": [
    "def show_array(arr):\n",
    "    print('Array:',arr,sep='\\n')\n",
    "    print('type:',type(a))\n",
    "    print('shape:',a.shape)\n",
    "    print('size:',a.size)\n",
    "    print('DType:',arr.dtype)\n",
    "    print('length:',len(a))\n",
    "    print('dimension:',a.ndim)"
   ]
  },
  {
   "cell_type": "code",
   "execution_count": 59,
   "metadata": {},
   "outputs": [
    {
     "name": "stdout",
     "output_type": "stream",
     "text": [
      "Array:\n",
      "[[10 11 13 14]\n",
      " [45 22  9  2]\n",
      " [ 6  5  1  8]]\n",
      "type: <class 'numpy.ndarray'>\n",
      "shape: (5,)\n",
      "size: 5\n",
      "DType: int32\n",
      "length: 5\n",
      "dimension: 1\n"
     ]
    }
   ],
   "source": [
    "#10 11 13 14\n",
    "#45 22 9 2\n",
    "#6 5 1 8\n",
    "b=np.array([[10,11,13,14],[45,22,9,2],[6,5,1,8]])\n",
    "show_array(b)"
   ]
  },
  {
   "cell_type": "code",
   "execution_count": 35,
   "metadata": {},
   "outputs": [],
   "source": [
    "#array operation\n",
    "#item accessing:subscripting,slicing\n",
    "#item assignment\n",
    "#item insertion\n",
    "#item deletion\n",
    "#arithmetic"
   ]
  },
  {
   "cell_type": "code",
   "execution_count": 41,
   "metadata": {},
   "outputs": [
    {
     "name": "stdout",
     "output_type": "stream",
     "text": [
      "Array:\n",
      "[[[ 10 100]\n",
      "  [ 11 110]\n",
      "  [ 23  13]\n",
      "  [ 14 140]]\n",
      "\n",
      " [[ 45 145]\n",
      "  [ 22 122]\n",
      "  [  9  19]\n",
      "  [  2  12]]\n",
      "\n",
      " [[  6  16]\n",
      "  [  5  15]\n",
      "  [  1  11]\n",
      "  [  8  18]]]\n",
      "type: <class 'numpy.ndarray'>\n",
      "shape: (5,)\n",
      "size: 5\n",
      "DType: int32\n",
      "length: 5\n",
      "dimension: 1\n"
     ]
    }
   ],
   "source": [
    "            #100 110 13 140\n",
    "            #145 22 9 2\n",
    "            #16 15 11 18\n",
    "#10 11 23 14\n",
    "#45 22 9 2\n",
    "#6 5 1 8\n",
    "c=np.array([[[10,100],[11,110],[23,13],[14,140]],\n",
    "            [[45,145],[22,122],[9,19],[2,12]],\n",
    "            [[6,16],[5,15],[1,11],[8,18]]])\n",
    "show_array(c)"
   ]
  },
  {
   "cell_type": "code",
   "execution_count": 43,
   "metadata": {},
   "outputs": [
    {
     "data": {
      "text/plain": [
       "array([[10, 11, 13, 14],\n",
       "       [45, 22,  9,  2],\n",
       "       [ 6,  5,  1,  8]])"
      ]
     },
     "execution_count": 43,
     "metadata": {},
     "output_type": "execute_result"
    }
   ],
   "source": [
    "b\n",
    "\n"
   ]
  },
  {
   "cell_type": "code",
   "execution_count": 51,
   "metadata": {},
   "outputs": [
    {
     "data": {
      "text/plain": [
       "array([13,  9,  1])"
      ]
     },
     "execution_count": 51,
     "metadata": {},
     "output_type": "execute_result"
    }
   ],
   "source": [
    "[[10,11,13,14],[45,22,9,2],[6,5,1,8]]\n",
    "#b[0][0]\n",
    "#b[1][1:]\n",
    "#subscripting [1st,2nd,3rd...............,nth dim]\n",
    "#subscripting [1st:1st end:stepsize,2nd,3rd...............,nth dim]\n",
    "b[0,0]\n",
    "b[1,-3:]\n",
    "b[:,-2]"
   ]
  },
  {
   "cell_type": "code",
   "execution_count": 53,
   "metadata": {},
   "outputs": [
    {
     "data": {
      "text/plain": [
       "(3,)"
      ]
     },
     "execution_count": 53,
     "metadata": {},
     "output_type": "execute_result"
    }
   ],
   "source": [
    "b[:,-2].shape"
   ]
  },
  {
   "cell_type": "code",
   "execution_count": 58,
   "metadata": {},
   "outputs": [
    {
     "data": {
      "text/plain": [
       "array([[13],\n",
       "       [ 9],\n",
       "       [ 1]])"
      ]
     },
     "execution_count": 58,
     "metadata": {},
     "output_type": "execute_result"
    }
   ],
   "source": [
    "b[:,-2:-1]"
   ]
  },
  {
   "cell_type": "code",
   "execution_count": 93,
   "metadata": {},
   "outputs": [
    {
     "name": "stdout",
     "output_type": "stream",
     "text": [
      "[[6 5 1 8]]\n",
      "[[[ 10 100]\n",
      "  [ 11 110]]]\n",
      "[[[11]]\n",
      "\n",
      " [[22]]\n",
      "\n",
      " [[ 5]]]\n",
      "[[[ 45 145]]]\n",
      "[[[ 23  13]\n",
      "  [ 14 140]]\n",
      "\n",
      " [[  9  19]\n",
      "  [  2  12]]]\n"
     ]
    }
   ],
   "source": [
    "print(b[-1:,:])\n",
    "print(c[:1,:2,:])\n",
    "print(c[:,1:2,:1])\n",
    "print(c[-2:-1:,:1])\n",
    "print(c[:2,-2:,:])\n",
    "\n"
   ]
  },
  {
   "cell_type": "code",
   "execution_count": 94,
   "metadata": {},
   "outputs": [
    {
     "name": "stdout",
     "output_type": "stream",
     "text": [
      "(1, 4)\n",
      "(1, 2, 2)\n",
      "(3, 1, 1)\n",
      "(1, 1, 2)\n",
      "(2, 2, 2)\n"
     ]
    }
   ],
   "source": [
    "print(b[-1:,:].shape)\n",
    "print(c[:1,:2,:].shape)\n",
    "print(c[:,1:2,:1].shape)\n",
    "print(c[-2:-1:,:1].shape)\n",
    "print(c[:2,-2:,:].shape)"
   ]
  },
  {
   "cell_type": "code",
   "execution_count": 95,
   "metadata": {},
   "outputs": [
    {
     "data": {
      "text/plain": [
       "array([[10, 11, 13, 14],\n",
       "       [45, 22, 90,  2],\n",
       "       [ 6,  5,  1,  8]])"
      ]
     },
     "execution_count": 95,
     "metadata": {},
     "output_type": "execute_result"
    }
   ],
   "source": [
    "#itemn assignment\n",
    "b[1,2]=90\n",
    "b"
   ]
  },
  {
   "cell_type": "code",
   "execution_count": 97,
   "metadata": {},
   "outputs": [
    {
     "data": {
      "text/plain": [
       "array([ 3,  8,  2, 67, 45, 80])"
      ]
     },
     "execution_count": 97,
     "metadata": {},
     "output_type": "execute_result"
    }
   ],
   "source": [
    "#item insertion\n",
    "a=np.append(a,80)\n",
    "a"
   ]
  },
  {
   "cell_type": "code",
   "execution_count": 112,
   "metadata": {},
   "outputs": [
    {
     "ename": "ValueError",
     "evalue": "all the input arrays must have same number of dimensions, but the array at index 0 has 1 dimension(s) and the array at index 1 has 2 dimension(s)",
     "output_type": "error",
     "traceback": [
      "\u001b[1;31m---------------------------------------------------------------------------\u001b[0m",
      "\u001b[1;31mValueError\u001b[0m                                Traceback (most recent call last)",
      "\u001b[1;32mc:\\Users\\hp\\Desktop\\4th year internship\\python fundamental\\31 july.ipynb Cell 17\u001b[0m in \u001b[0;36m<cell line: 1>\u001b[1;34m()\u001b[0m\n\u001b[1;32m----> <a href='vscode-notebook-cell:/c%3A/Users/hp/Desktop/4th%20year%20internship/python%20fundamental/31%20july.ipynb#Y104sZmlsZQ%3D%3D?line=0'>1</a>\u001b[0m np\u001b[39m.\u001b[39;49mappend(b, [[\u001b[39m9\u001b[39;49m,\u001b[39m90\u001b[39;49m,\u001b[39m900\u001b[39;49m,\u001b[39m9000\u001b[39;49m]], axis \u001b[39m=\u001b[39;49m \u001b[39m0\u001b[39;49m)\n",
      "File \u001b[1;32m<__array_function__ internals>:5\u001b[0m, in \u001b[0;36mappend\u001b[1;34m(*args, **kwargs)\u001b[0m\n",
      "File \u001b[1;32mc:\\Users\\hp\\3D Objects\\py\\lib\\site-packages\\numpy\\lib\\function_base.py:4817\u001b[0m, in \u001b[0;36mappend\u001b[1;34m(arr, values, axis)\u001b[0m\n\u001b[0;32m   4815\u001b[0m     values \u001b[39m=\u001b[39m ravel(values)\n\u001b[0;32m   4816\u001b[0m     axis \u001b[39m=\u001b[39m arr\u001b[39m.\u001b[39mndim\u001b[39m-\u001b[39m\u001b[39m1\u001b[39m\n\u001b[1;32m-> 4817\u001b[0m \u001b[39mreturn\u001b[39;00m concatenate((arr, values), axis\u001b[39m=\u001b[39;49maxis)\n",
      "File \u001b[1;32m<__array_function__ internals>:5\u001b[0m, in \u001b[0;36mconcatenate\u001b[1;34m(*args, **kwargs)\u001b[0m\n",
      "\u001b[1;31mValueError\u001b[0m: all the input arrays must have same number of dimensions, but the array at index 0 has 1 dimension(s) and the array at index 1 has 2 dimension(s)"
     ]
    }
   ],
   "source": [
    "np.append(b, [[9,90,900,9000]], axis = 0)    #axis =0=rows,axis=1=col"
   ]
  },
  {
   "cell_type": "code",
   "execution_count": 108,
   "metadata": {},
   "outputs": [
    {
     "ename": "AxisError",
     "evalue": "axis 1 is out of bounds for array of dimension 1",
     "output_type": "error",
     "traceback": [
      "\u001b[1;31m---------------------------------------------------------------------------\u001b[0m",
      "\u001b[1;31mAxisError\u001b[0m                                 Traceback (most recent call last)",
      "\u001b[1;32mc:\\Users\\hp\\Desktop\\4th year internship\\python fundamental\\31 july.ipynb Cell 18\u001b[0m in \u001b[0;36m<cell line: 1>\u001b[1;34m()\u001b[0m\n\u001b[1;32m----> <a href='vscode-notebook-cell:/c%3A/Users/hp/Desktop/4th%20year%20internship/python%20fundamental/31%20july.ipynb#Y103sZmlsZQ%3D%3D?line=0'>1</a>\u001b[0m np\u001b[39m.\u001b[39;49mappend(b,[[\u001b[39m9\u001b[39;49m,\u001b[39m90\u001b[39;49m,\u001b[39m900\u001b[39;49m]],axis\u001b[39m=\u001b[39;49m\u001b[39m1\u001b[39;49m)\n",
      "File \u001b[1;32m<__array_function__ internals>:5\u001b[0m, in \u001b[0;36mappend\u001b[1;34m(*args, **kwargs)\u001b[0m\n",
      "File \u001b[1;32mc:\\Users\\hp\\3D Objects\\py\\lib\\site-packages\\numpy\\lib\\function_base.py:4817\u001b[0m, in \u001b[0;36mappend\u001b[1;34m(arr, values, axis)\u001b[0m\n\u001b[0;32m   4815\u001b[0m     values \u001b[39m=\u001b[39m ravel(values)\n\u001b[0;32m   4816\u001b[0m     axis \u001b[39m=\u001b[39m arr\u001b[39m.\u001b[39mndim\u001b[39m-\u001b[39m\u001b[39m1\u001b[39m\n\u001b[1;32m-> 4817\u001b[0m \u001b[39mreturn\u001b[39;00m concatenate((arr, values), axis\u001b[39m=\u001b[39;49maxis)\n",
      "File \u001b[1;32m<__array_function__ internals>:5\u001b[0m, in \u001b[0;36mconcatenate\u001b[1;34m(*args, **kwargs)\u001b[0m\n",
      "\u001b[1;31mAxisError\u001b[0m: axis 1 is out of bounds for array of dimension 1"
     ]
    }
   ],
   "source": [
    "np.append(b,[[9,90,900]],axis=1)"
   ]
  },
  {
   "cell_type": "code",
   "execution_count": 115,
   "metadata": {},
   "outputs": [
    {
     "data": {
      "text/plain": [
       "array([  11,   13,   14,   45,   22,   90,    2,    6,    5,    1,    8,\n",
       "          9,   90,  900, 9000,    9,   90,  900, 9000])"
      ]
     },
     "execution_count": 115,
     "metadata": {},
     "output_type": "execute_result"
    }
   ],
   "source": [
    "#item deletionn\n",
    "np.delete(b,0,axis=0)"
   ]
  },
  {
   "cell_type": "code",
   "execution_count": 116,
   "metadata": {},
   "outputs": [
    {
     "data": {
      "text/plain": [
       "array([   1,    2,    4,    5,   36,   13,   81,   -7,   -3,   -4,   -8,\n",
       "         -1,    0,   81,  891, 8991,    0,   81,  891, 8991])"
      ]
     },
     "execution_count": 116,
     "metadata": {},
     "output_type": "execute_result"
    }
   ],
   "source": [
    "b-9"
   ]
  },
  {
   "cell_type": "code",
   "execution_count": 1,
   "metadata": {},
   "outputs": [
    {
     "ename": "NameError",
     "evalue": "name 'np' is not defined",
     "output_type": "error",
     "traceback": [
      "\u001b[1;31m---------------------------------------------------------------------------\u001b[0m",
      "\u001b[1;31mNameError\u001b[0m                                 Traceback (most recent call last)",
      "\u001b[1;32mc:\\Users\\hp\\Desktop\\4th year internship\\python fundamental\\31 july.ipynb Cell 21\u001b[0m in \u001b[0;36m<cell line: 11>\u001b[1;34m()\u001b[0m\n\u001b[0;32m      <a href='vscode-notebook-cell:/c%3A/Users/hp/Desktop/4th%20year%20internship/python%20fundamental/31%20july.ipynb#X26sZmlsZQ%3D%3D?line=0'>1</a>\u001b[0m \u001b[39m#array manipulation\u001b[39;00m\n\u001b[0;32m      <a href='vscode-notebook-cell:/c%3A/Users/hp/Desktop/4th%20year%20internship/python%20fundamental/31%20july.ipynb#X26sZmlsZQ%3D%3D?line=1'>2</a>\u001b[0m \u001b[39m#arr.reshape()\u001b[39;00m\n\u001b[0;32m      <a href='vscode-notebook-cell:/c%3A/Users/hp/Desktop/4th%20year%20internship/python%20fundamental/31%20july.ipynb#X26sZmlsZQ%3D%3D?line=2'>3</a>\u001b[0m \u001b[39m#arr.astype()\u001b[39;00m\n\u001b[1;32m   (...)\u001b[0m\n\u001b[0;32m      <a href='vscode-notebook-cell:/c%3A/Users/hp/Desktop/4th%20year%20internship/python%20fundamental/31%20july.ipynb#X26sZmlsZQ%3D%3D?line=8'>9</a>\u001b[0m \u001b[39m#np.zeros()  ->generate all values as '0'\u001b[39;00m\n\u001b[0;32m     <a href='vscode-notebook-cell:/c%3A/Users/hp/Desktop/4th%20year%20internship/python%20fundamental/31%20july.ipynb#X26sZmlsZQ%3D%3D?line=9'>10</a>\u001b[0m \u001b[39m#np.random.random()\u001b[39;00m\n\u001b[1;32m---> <a href='vscode-notebook-cell:/c%3A/Users/hp/Desktop/4th%20year%20internship/python%20fundamental/31%20july.ipynb#X26sZmlsZQ%3D%3D?line=10'>11</a>\u001b[0m np\u001b[39m.\u001b[39mrandom\u001b[39m.\u001b[39mrandint()\n\u001b[0;32m     <a href='vscode-notebook-cell:/c%3A/Users/hp/Desktop/4th%20year%20internship/python%20fundamental/31%20july.ipynb#X26sZmlsZQ%3D%3D?line=11'>12</a>\u001b[0m b\u001b[39m.\u001b[39mreshape(\u001b[39m2\u001b[39m,\u001b[39m6\u001b[39m,\u001b[39m1\u001b[39m,\u001b[39m1\u001b[39m)\n",
      "\u001b[1;31mNameError\u001b[0m: name 'np' is not defined"
     ]
    }
   ],
   "source": [
    "#array manipulation\n",
    "#arr.reshape()\n",
    "#arr.astype()\n",
    "#more functions to create array\n",
    "#np.array()\n",
    "#np.arrange() ->array version of range func,also allows float\n",
    "#np.linspace() ->start,end,no. of items\n",
    "#np.ones  ->generate all values as '1'\n",
    "#np.zeros()  ->generate all values as '0'\n",
    "#np.random.random()\n",
    "np.random.randint()\n",
    "b.reshape(2,6,1,1)\n",
    "\n"
   ]
  },
  {
   "cell_type": "code",
   "execution_count": 121,
   "metadata": {},
   "outputs": [
    {
     "data": {
      "text/plain": [
       "array([1.0e+01, 1.1e+01, 1.3e+01, 1.4e+01, 4.5e+01, 2.2e+01, 9.0e+01,\n",
       "       2.0e+00, 6.0e+00, 5.0e+00, 1.0e+00, 8.0e+00, 9.0e+00, 9.0e+01,\n",
       "       9.0e+02, 9.0e+03, 9.0e+00, 9.0e+01, 9.0e+02, 9.0e+03])"
      ]
     },
     "execution_count": 121,
     "metadata": {},
     "output_type": "execute_result"
    }
   ],
   "source": [
    "b.astype(float)"
   ]
  },
  {
   "cell_type": "code",
   "execution_count": 126,
   "metadata": {},
   "outputs": [
    {
     "data": {
      "text/plain": [
       "array([  10,   11,   13,   14,   45,   22,   90,    2,    6,    5,    1,\n",
       "          8,    9,   90,  900, 9000,    9,   90,  900, 9000], dtype=uint16)"
      ]
     },
     "execution_count": 126,
     "metadata": {},
     "output_type": "execute_result"
    }
   ],
   "source": [
    "b.astype('uint16')"
   ]
  },
  {
   "cell_type": "code",
   "execution_count": null,
   "metadata": {},
   "outputs": [],
   "source": []
  }
 ],
 "metadata": {
  "kernelspec": {
   "display_name": "base",
   "language": "python",
   "name": "python3"
  },
  "language_info": {
   "codemirror_mode": {
    "name": "ipython",
    "version": 3
   },
   "file_extension": ".py",
   "mimetype": "text/x-python",
   "name": "python",
   "nbconvert_exporter": "python",
   "pygments_lexer": "ipython3",
   "version": "3.9.12"
  },
  "orig_nbformat": 4
 },
 "nbformat": 4,
 "nbformat_minor": 2
}
